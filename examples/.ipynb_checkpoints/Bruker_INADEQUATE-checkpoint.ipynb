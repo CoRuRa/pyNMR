{
 "cells": [
  {
   "cell_type": "markdown",
   "metadata": {},
   "source": [
    "# Bruker Inadequate Analysis"
   ]
  },
  {
   "cell_type": "code",
   "execution_count": 2,
   "metadata": {},
   "outputs": [],
   "source": [
    "import numpy as np\n",
    "#from pynmr.viewer import gui as mygui\n",
    "\n",
    "import pynmr.model.parser.topSpin as T\n",
    "import pynmr.model.processor as P\n",
    "import pynmr.model.operations as O\n",
    "\n",
    "%load_ext autoreload\n",
    "%autoreload 2"
   ]
  },
  {
   "cell_type": "code",
   "execution_count": 3,
   "metadata": {},
   "outputs": [
    {
     "name": "stdout",
     "output_type": "stream",
     "text": [
      "TopSpin Version: 3\n",
      "Hello\n",
      "\n",
      "LB: 0.0 Hz\n",
      "Phase:  3.1197334273624224\n",
      "Time Shift: 3.93e-05 s\n"
     ]
    }
   ],
   "source": [
    "data = T.TopSpin(\"./data/bruker/INADEQUATE/2/\")\n",
    "print(data.title)\n",
    "\n",
    "Processor = P.Processor([O.LeftShift(data.shiftPoints),\n",
    "                         O.LineBroadening(0.0),\n",
    "                         O.FourierTransform(),\n",
    "                       O.Phase0D(-90),\n",
    "                        O.Phase1D(data.timeShift, unit=\"time\")])\n",
    "Processor.runStack(data)\n",
    "\n",
    "OP = O.SetPPMScale(-9750, 22)\n",
    "OP.run(data)\n",
    "print(\"Time Shift: {:.2e} s\".format(data.timeShift))"
   ]
  },
  {
   "cell_type": "code",
   "execution_count": 4,
   "metadata": {},
   "outputs": [
    {
     "data": {
      "image/png": "[encoded data removed]",
      "text/plain": [
       "<Figure size 432x288 with 1 Axes>"
      ]
     },
     "metadata": {
      "needs_background": "light"
     },
     "output_type": "display_data"
    }
   ],
   "source": [
    "import matplotlib.pyplot as plt\n",
    "\n",
    "plt.figure()\n",
    "plt.plot(data.ppmScale, np.abs(data.allSpectra[-1][99]), linewidth = 1)\n",
    "plt.xlim(200,0)\n",
    "plt.grid()"
   ]
  },
  {
   "cell_type": "code",
   "execution_count": null,
   "metadata": {},
   "outputs": [],
   "source": [
    "import scipy as sp\n",
    "\n",
    "from scipy import fft\n",
    "from scipy.fftpack import fftshift"
   ]
  },
  {
   "cell_type": "code",
   "execution_count": 6,
   "metadata": {},
   "outputs": [],
   "source": [
    "transform = fftshift(np.fft.fft2((data.allFid[-1])))\n"
   ]
  },
  {
   "cell_type": "code",
   "execution_count": 7,
   "metadata": {},
   "outputs": [
    {
     "data": {
      "text/plain": [
       "(240.0, -5.0)"
      ]
     },
     "execution_count": 7,
     "metadata": {},
     "output_type": "execute_result"
    },
    {
     "data": {
      "image/png": "[encoded data removed]",
      "text/plain": [
       "<Figure size 432x288 with 1 Axes>"
      ]
     },
     "metadata": {},
     "output_type": "display_data"
    }
   ],
   "source": [
    "import matplotlib.pyplot as plt\n",
    "\n",
    "plt.style.use('seaborn-white')\n",
    "\n",
    "y = range(128)\n",
    "z = np.abs(transform)\n",
    "plt.contour(data.ppmScale, y, z)\n",
    "plt.xlim(240, -5)\n",
    "\n"
   ]
  },
  {
   "cell_type": "code",
   "execution_count": 80,
   "metadata": {},
   "outputs": [
    {
     "data": {
      "text/plain": [
       "[[1]]"
      ]
     },
     "execution_count": 80,
     "metadata": {},
     "output_type": "execute_result"
    }
   ],
   "source": [
    "\n",
    "\n",
    "x = [[1], [2], [3]]\n",
    "\n",
    "[x[0]]"
   ]
  },
  {
   "cell_type": "code",
   "execution_count": 27,
   "metadata": {},
   "outputs": [],
   "source": [
    "import nmrglue as ng\n",
    "data = ng.bruker.read(\"./data/bruker/INADEQUATE/2/\")"
   ]
  }
 ],
 "metadata": {
  "kernelspec": {
   "display_name": "Python 3",
   "language": "python",
   "name": "python3"
  },
  "language_info": {
   "codemirror_mode": {
    "name": "ipython",
    "version": 3
   },
   "file_extension": ".py",
   "mimetype": "text/x-python",
   "name": "python",
   "nbconvert_exporter": "python",
   "pygments_lexer": "ipython3",
   "version": "3.8.5"
  }
 },
 "nbformat": 4,
 "nbformat_minor": 4
}
