{
 "cells": [
  {
   "cell_type": "markdown",
   "metadata": {},
   "source": [
    "# Bruker STD Analysis"
   ]
  },
  {
   "cell_type": "code",
   "execution_count": 16,
   "metadata": {},
   "outputs": [
    {
     "name": "stdout",
     "output_type": "stream",
     "text": [
      "The autoreload extension is already loaded. To reload it, use:\n",
      "  %reload_ext autoreload\n"
     ]
    }
   ],
   "source": [
    "import numpy as np\n",
    "from pyNMR.viewer import gui as mygui\n",
    "\n",
    "import pyNMR.model.parser.topSpin as T\n",
    "import pyNMR.model.processor as P\n",
    "import pyNMR.model.operations as O\n",
    "\n",
    "%load_ext autoreload\n",
    "%autoreload 2"
   ]
  },
  {
   "cell_type": "code",
   "execution_count": 17,
   "metadata": {},
   "outputs": [
    {
     "name": "stdout",
     "output_type": "stream",
     "text": [
      "\n",
      "Left Shift\n",
      "Exponential Linebroadening\n",
      "LB: 0.0 Hz\n",
      "Fourier Transform\n",
      "Phase Zero Order\n",
      "Phase First Order\n",
      "Phase:  3.1011917720646287\n",
      "Setting PPM Scale automatically with offset from acqus:  1883.17625\n",
      "Phase:  1\n",
      "Time Shift: 1.54e-04 s\n"
     ]
    }
   ],
   "source": [
    "data = T.TopSpin(\"./data/bruker/STD/2/\")\n",
    "print(data.title)\n",
    "\n",
    "Processor = P.Processor([O.LeftShift(data.shiftPoints),\n",
    "                         O.LineBroadening(0.0),\n",
    "                         O.FourierTransform(),\n",
    "                       O.Phase0D(140),\n",
    "                        O.Phase1D(1.54e-4, unit=\"time\"),\n",
    "                        ])\n",
    "Processor.runStack(data)\n",
    "\n",
    "OP = O.SetPPMScale()\n",
    "OP.run(data)\n",
    "OP2 = O.Phase1D(1, pivot = 4, scale = \"ppm\")\n",
    "OP2.run(data)\n",
    "print(\"Time Shift: {:.2e} s\".format(data.timeShift))"
   ]
  },
  {
   "cell_type": "code",
   "execution_count": 18,
   "metadata": {},
   "outputs": [
    {
     "data": {
      "image/png": "[encoded data removed]",
      "text/plain": [
       "<Figure size 432x288 with 1 Axes>"
      ]
     },
     "metadata": {
      "needs_background": "light"
     },
     "output_type": "display_data"
    }
   ],
   "source": [
    "import matplotlib.pyplot as plt\n",
    "\n",
    "plt.figure()\n",
    "plt.plot(data.ppmScale, np.real(data.allSpectra[-1][0]), linewidth = 1)\n",
    "plt.xlim(12,0)\n",
    "plt.grid()"
   ]
  },
  {
   "cell_type": "code",
   "execution_count": null,
   "metadata": {},
   "outputs": [],
   "source": []
  }
 ],
 "metadata": {
  "kernelspec": {
   "display_name": "Python 3",
   "language": "python",
   "name": "python3"
  },
  "language_info": {
   "codemirror_mode": {
    "name": "ipython",
    "version": 3
   },
   "file_extension": ".py",
   "mimetype": "text/x-python",
   "name": "python",
   "nbconvert_exporter": "python",
   "pygments_lexer": "ipython3",
   "version": "3.8.5"
  }
 },
 "nbformat": 4,
 "nbformat_minor": 4
}
