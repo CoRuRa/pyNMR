{
 "cells": [
  {
   "cell_type": "markdown",
   "metadata": {},
   "source": [
    "# Parsing RS2D Files\n",
    "So far we can read some values from the xml files, that give the dimensions of the spectra. \n",
    "\n",
    "We also have some jcamp.dx files, in which first there is the real part of the fid, and then there is the imaginary part of the fid. The first two lines of the real data looks like this:\n",
    "\n",
    "0.0c2767Q096Q99K442N14M754k184O168r00J928l213O682l85K184H99o681\n",
    "15.0e782J671J156n782J799L341p71O809F42K056q094J285j671J285R636\n",
    "\n",
    "Some useful information is here. https://cran.r-project.org/web/packages/readJDX/vignettes/readJDX.pdf\n",
    "\n",
    "However, the compression scheme seems to be ASDF, ASCII Squeezed Difference Form"
   ]
  },
  {
   "cell_type": "code",
   "execution_count": 50,
   "metadata": {},
   "outputs": [],
   "source": [
    "from bs4 import BeautifulSoup"
   ]
  },
  {
   "cell_type": "code",
   "execution_count": 51,
   "metadata": {},
   "outputs": [],
   "source": [
    "pathHeader = \"./19/header.xml\"\n",
    "\n",
    "\n",
    "with open(pathHeader) as fp:\n",
    "    soup = BeautifulSoup(fp, 'lxml-xml')\n",
    "\n",
    "#allKeys = [k.string for k in soup.find_all(\"key\")]\n",
    "\n",
    "allEntries = soup.find_all(\"entry\")"
   ]
  },
  {
   "cell_type": "code",
   "execution_count": 52,
   "metadata": {},
   "outputs": [],
   "source": [
    "keyList = []\n",
    "\n",
    "myDict = {}\n",
    "\n",
    "for e in allEntries:\n",
    "    keyName = e.key.string\n",
    "    keyValue = e.value.value.string\n",
    "    res = e.find_all(\"value\", {\"xsi:type\": \"numberParam\"})\n",
    "\n",
    "    if len(res) > 0:\n",
    "        r = float(e.value.value.string)\n",
    "        if r.is_integer():\n",
    "            myDict[e.key.string] = int(r)\n",
    "        else:\n",
    "            myDict[e.key.string] = r"
   ]
  },
  {
   "cell_type": "code",
   "execution_count": 53,
   "metadata": {},
   "outputs": [
    {
     "name": "stdout",
     "output_type": "stream",
     "text": [
      "{'ACCU_DIM': 1, 'ACQUISITION_MATRIX_DIMENSION_1D': 4982, 'ACQUISITION_MATRIX_DIMENSION_2D': 12, 'ACQUISITION_MATRIX_DIMENSION_3D': 1, 'ACQUISITION_MATRIX_DIMENSION_4D': 1, 'ACQUISITION_TIME_PER_SCAN': 1, 'BASE_FREQ_1': 285491000, 'BASE_FREQ_2': 285491000, 'BASE_FREQ_3': 285491000, 'BASE_FREQ_4': 285491000, 'DIGITAL_FILTER_SHIFT': 30, 'DUMMY_SCAN': 0, 'FID_RES': 201.044, 'FID_RES_2D': 24.414, 'INTERMEDIATE_FREQUENCY': 12500000, 'MAGNETIC_FIELD_STRENGTH': 5, 'MATRIX_DIMENSION_1D': 4982, 'MATRIX_DIMENSION_2D': 12, 'MATRIX_DIMENSION_3D': 1, 'MATRIX_DIMENSION_4D': 1, 'NUMBER_OF_AVERAGES': 1, 'Nb_2d': 512, 'Nb_point': 4982, 'OBSERVED_FREQUENCY': 285491000, 'OFFSET_FREQ_1': 0, 'OFFSET_FREQ_2': 0, 'OFFSET_FREQ_3': 0, 'OFFSET_FREQ_4': 0, 'Pre_scan': 0, 'RECEIVER_COUNT': 1, 'SAMPLE_TEMPERATURE': 0, 'SPECTRAL_WIDTH': 1001602.5641025641, 'SPECTRAL_WIDTH_2D': 12500, 'SPIN_RATE': 0, 'Tx_att': 10, 'USER_MATRIX_DIMENSION_1D': 128, 'USER_MATRIX_DIMENSION_2D': 128, 'USER_MATRIX_DIMENSION_3D': 1, 'USER_MATRIX_DIMENSION_4D': 1}\n"
     ]
    }
   ],
   "source": [
    "print(myDict)"
   ]
  },
  {
   "cell_type": "code",
   "execution_count": 54,
   "metadata": {},
   "outputs": [
    {
     "data": {
      "text/plain": [
       "[]"
      ]
     },
     "execution_count": 54,
     "metadata": {},
     "output_type": "execute_result"
    }
   ],
   "source": [
    "allEntries[0].value.find_all({\"xsi:type\": \"numberParam\"})"
   ]
  },
  {
   "cell_type": "code",
   "execution_count": 55,
   "metadata": {},
   "outputs": [],
   "source": [
    "import struct\n",
    "\n",
    "with open(\"./19/data.dat\", \"rb\") as f:\n",
    "    d = f.read()"
   ]
  },
  {
   "cell_type": "code",
   "execution_count": 56,
   "metadata": {},
   "outputs": [
    {
     "data": {
      "text/plain": [
       "478272"
      ]
     },
     "execution_count": 56,
     "metadata": {},
     "output_type": "execute_result"
    }
   ],
   "source": [
    "len(d)"
   ]
  },
  {
   "cell_type": "code",
   "execution_count": 116,
   "metadata": {},
   "outputs": [],
   "source": [
    "sizeTD2 = myDict[\"ACQUISITION_MATRIX_DIMENSION_1D\"]\n",
    "sizeTD1 = myDict[\"ACQUISITION_MATRIX_DIMENSION_2D\"]"
   ]
  },
  {
   "cell_type": "code",
   "execution_count": 170,
   "metadata": {},
   "outputs": [],
   "source": [
    "points = sizeTD2*sizeTD1*8\n",
    "# we have 8 bytes per point. This could be a long for the real, and a long for the imaginary part.\n",
    "\n",
    "little = \"<\"\n",
    "big = \">\"\n",
    "\n",
    "typeList = \"ilf\"\n",
    "\n",
    "data = struct.unpack(big + typeList[2]*(sizeTD2*sizeTD1)*2, d)"
   ]
  },
  {
   "cell_type": "code",
   "execution_count": 36,
   "metadata": {},
   "outputs": [],
   "source": [
    "import matplotlib.pyplot as plt\n",
    "import numpy as np"
   ]
  },
  {
   "cell_type": "code",
   "execution_count": 178,
   "metadata": {},
   "outputs": [
    {
     "data": {
      "text/plain": [
       "[<matplotlib.lines.Line2D at 0x7f8eef8b1450>]"
      ]
     },
     "execution_count": 178,
     "metadata": {},
     "output_type": "execute_result"
    },
    {
     "data": {
      "image/png": "[encoded data removed]",
      "text/plain": [
       "<Figure size 432x288 with 1 Axes>"
      ]
     },
     "metadata": {
      "needs_background": "light"
     },
     "output_type": "display_data"
    }
   ],
   "source": [
    "plt.plot(data)\n"
   ]
  },
  {
   "cell_type": "code",
   "execution_count": 117,
   "metadata": {},
   "outputs": [
    {
     "data": {
      "text/plain": [
       "4982"
      ]
     },
     "execution_count": 117,
     "metadata": {},
     "output_type": "execute_result"
    }
   ],
   "source": [
    "sizeTD2"
   ]
  },
  {
   "cell_type": "code",
   "execution_count": 30,
   "metadata": {},
   "outputs": [
    {
     "data": {
      "text/plain": [
       "<module 'pyNMR.model.parser.rs2d' from '/Users/benno/Dropbox/Software/pyNMR/pyNMR/model/parser/rs2d.py'>"
      ]
     },
     "execution_count": 30,
     "metadata": {},
     "output_type": "execute_result"
    }
   ],
   "source": [
    "import pyNMR.model.parser.rs2d as rs2d\n",
    "from importlib import reload\n",
    "reload(rs2d)"
   ]
  },
  {
   "cell_type": "code",
   "execution_count": 31,
   "metadata": {},
   "outputs": [],
   "source": [
    "data = rs2d.RS2D(\"./19/\")"
   ]
  },
  {
   "cell_type": "code",
   "execution_count": 44,
   "metadata": {},
   "outputs": [
    {
     "data": {
      "text/plain": [
       "(0, 100)"
      ]
     },
     "execution_count": 44,
     "metadata": {},
     "output_type": "execute_result"
    },
    {
     "data": {
      "image/png": "[encoded data removed]",
      "text/plain": [
       "<Figure size 432x288 with 1 Axes>"
      ]
     },
     "metadata": {
      "needs_background": "light"
     },
     "output_type": "display_data"
    }
   ],
   "source": [
    "plt.plot(np.real(data.allFid[0][3]))\n",
    "plt.plot(np.imag(data.allFid[0][3]))\n",
    "plt.xlim(0, 100)"
   ]
  },
  {
   "cell_type": "code",
   "execution_count": 43,
   "metadata": {},
   "outputs": [
    {
     "data": {
      "text/plain": [
       "9.984e-07"
      ]
     },
     "execution_count": 43,
     "metadata": {},
     "output_type": "execute_result"
    }
   ],
   "source": [
    "1 / data.sweepWidthTD2"
   ]
  },
  {
   "cell_type": "code",
   "execution_count": null,
   "metadata": {},
   "outputs": [],
   "source": []
  }
 ],
 "metadata": {
  "kernelspec": {
   "display_name": "Python 3",
   "language": "python",
   "name": "python3"
  },
  "language_info": {
   "codemirror_mode": {
    "name": "ipython",
    "version": 3
   },
   "file_extension": ".py",
   "mimetype": "text/x-python",
   "name": "python",
   "nbconvert_exporter": "python",
   "pygments_lexer": "ipython3",
   "version": "3.7.4"
  }
 },
 "nbformat": 4,
 "nbformat_minor": 4
}
